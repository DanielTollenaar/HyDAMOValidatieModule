{
 "cells": [
  {
   "cell_type": "markdown",
   "id": "a02cc1fe",
   "metadata": {},
   "source": [
    "# Testen via de Python module\n",
    "\n",
    "We hebben hiervoor nodig `directory`; een map met data om te valideren, deze bestaat uit:\n",
    "* een map `datasets` met daarin 1 of meerdere GeoPackages met HyDAMO lagen\n",
    "* een bestand `validation_rules.json` met daarin de validatieregels\n",
    "\n",
    "Omdat we op de HyDAMO objecten de maaiveldhoogte willen bepalen definieren we een `coverage`. Dit is een python dictionary. Elke `key` geeft een identificatie voor de coverage die aangeroepen kan worden in de `validation_rules.json`. De `value` verwijst naar een map met daarin:\n",
    "* GeoTiffs\n",
    "* index.shp met een uitlijn van elke GeoTiff"
   ]
  },
  {
   "cell_type": "code",
   "execution_count": 1,
   "id": "03129f44",
   "metadata": {},
   "outputs": [],
   "source": [
    "coverage = {\"AHN\": r\"../tests/data/dtm\"}\n",
    "directory = r\"../tests/data/tasks/test_sturing\""
   ]
  },
  {
   "cell_type": "markdown",
   "id": "28575c0c",
   "metadata": {},
   "source": [
    "We importeren de validator en maken een HyDAMO validator aan die geopackages, csvs en geojsons weg schrijft. We kennen ook de coverage toe."
   ]
  },
  {
   "cell_type": "code",
   "execution_count": 2,
   "id": "662c2721",
   "metadata": {},
   "outputs": [],
   "source": [
    "from hydamo_validation import validator\n",
    "hydamo_validator = validator(output_types=[\"geopackage\", \"csv\", \"geojson\"],\n",
    "                             coverages=coverage,\n",
    "                             log_level=\"INFO\")"
   ]
  },
  {
   "cell_type": "markdown",
   "id": "0c5e821d",
   "metadata": {},
   "source": [
    "Nu kunnen we onze `directory` gaan valideren. Dat duurt ongeveer 20-30 seconden"
   ]
  },
  {
   "cell_type": "code",
   "execution_count": 3,
   "id": "5598b86f",
   "metadata": {},
   "outputs": [
    {
     "name": "stderr",
     "output_type": "stream",
     "text": [
      "INFO:hydamo_validation.validator:finished in 15.78 seconds\n"
     ]
    }
   ],
   "source": [
    "datamodel, layer_summary, result_summary = hydamo_validator(directory=directory,\n",
    "                                                            raise_error=True)"
   ]
  },
  {
   "cell_type": "markdown",
   "id": "8c4a2f97",
   "metadata": {},
   "source": [
    "We kijken naar de samenvatting van het resultaat"
   ]
  },
  {
   "cell_type": "code",
   "execution_count": 4,
   "id": "84a05716",
   "metadata": {},
   "outputs": [
    {
     "data": {
      "text/plain": [
       "{'success': True,\n",
       " 'module_version': '0.9.5',\n",
       " 'date_check': '2022-01-28T11:30:34.028991',\n",
       " 'duration': 15.776716470718384,\n",
       " 'status': 'finished',\n",
       " 'dataset_layers': ['Profielpunt',\n",
       "  'Profiellijn',\n",
       "  'Regelmiddel',\n",
       "  'Afvoergebiedaanvoergebied',\n",
       "  'Brug',\n",
       "  'Kunstwerkopening',\n",
       "  'Duikersifonhevel',\n",
       "  'Gemaal',\n",
       "  'Hydroobject',\n",
       "  'Lateraleknoop',\n",
       "  'Meetlocatie',\n",
       "  'Pomp',\n",
       "  'Sturing',\n",
       "  'Stuw',\n",
       "  'Ruwheidprofiel'],\n",
       " 'result_layers': ['profielpunt',\n",
       "  'profiellijn',\n",
       "  'regelmiddel',\n",
       "  'afvoergebiedaanvoergebied',\n",
       "  'brug',\n",
       "  'kunstwerkopening',\n",
       "  'duikersifonhevel',\n",
       "  'gemaal',\n",
       "  'hydroobject',\n",
       "  'lateraleknoop',\n",
       "  'meetlocatie',\n",
       "  'pomp',\n",
       "  'sturing',\n",
       "  'stuw'],\n",
       " 'missing_layers': ['admingrenswaterschap',\n",
       "  'afsluitmiddel',\n",
       "  'aquaduct',\n",
       "  'beheergrenswaterschap',\n",
       "  'bijzonderhydraulischobject',\n",
       "  'bodemval',\n",
       "  'doorstroomopening',\n",
       "  'grondwaterinfolijn',\n",
       "  'grondwaterinfopunt',\n",
       "  'grondwaterkoppellijn',\n",
       "  'grondwaterkoppelpunt',\n",
       "  'hydrologischerandvoorwaarde',\n",
       "  'hydroobject_normgp',\n",
       "  'meetwaardeactiewaarde',\n",
       "  'normgeparamprofiel',\n",
       "  'normgeparamprofielwaarde',\n",
       "  'peilafwijkinggebied',\n",
       "  'peilbesluitgebied',\n",
       "  'peilgebiedpraktijk',\n",
       "  'peilgebiedvigerend',\n",
       "  'profielgroep',\n",
       "  'reglementgrenswaterschap',\n",
       "  'streefpeil',\n",
       "  'vispassage',\n",
       "  'vispassagevlak',\n",
       "  'vuilvang',\n",
       "  'zandvang'],\n",
       " 'error_layers': ['Ruwheidprofiel'],\n",
       " 'syntax_result': ['profielpunt',\n",
       "  'profiellijn',\n",
       "  'regelmiddel',\n",
       "  'afvoergebiedaanvoergebied',\n",
       "  'brug',\n",
       "  'kunstwerkopening',\n",
       "  'duikersifonhevel',\n",
       "  'gemaal',\n",
       "  'hydroobject',\n",
       "  'lateraleknoop',\n",
       "  'meetlocatie',\n",
       "  'pomp',\n",
       "  'sturing',\n",
       "  'stuw'],\n",
       " 'validation_result': ['sturing']}"
      ]
     },
     "execution_count": 4,
     "metadata": {},
     "output_type": "execute_result"
    }
   ],
   "source": [
    "result_summary.to_dict()"
   ]
  }
 ],
 "metadata": {
  "kernelspec": {
   "display_name": "Python 3 (ipykernel)",
   "language": "python",
   "name": "python3"
  },
  "language_info": {
   "codemirror_mode": {
    "name": "ipython",
    "version": 3
   },
   "file_extension": ".py",
   "mimetype": "text/x-python",
   "name": "python",
   "nbconvert_exporter": "python",
   "pygments_lexer": "ipython3",
   "version": "3.9.9"
  }
 },
 "nbformat": 4,
 "nbformat_minor": 5
}
