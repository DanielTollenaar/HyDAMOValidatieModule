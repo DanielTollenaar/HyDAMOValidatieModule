{
 "cells": [
  {
   "cell_type": "markdown",
   "id": "a02cc1fe",
   "metadata": {},
   "source": [
    "# Testen via de Python module\n",
    "\n",
    "We hebben hiervoor nodig `directory`; een map met data om te valideren, deze bestaat uit:\n",
    "* een map `datasets` met daarin 1 of meerdere GeoPackages met HyDAMO lagen\n",
    "* een bestand `validation_rules.json` met daarin de validatieregels\n",
    "\n",
    "Omdat we op de HyDAMO objecten de maaiveldhoogte willen bepalen definieren we een `coverage`. Dit is een python dictionary. Elke `key` geeft een identificatie voor de coverage die aangeroepen kan worden in de `validation_rules.json`. De `value` verwijst naar een map met daarin:\n",
    "* GeoTiffs\n",
    "* index.shp met een uitlijn van elke GeoTiff"
   ]
  },
  {
   "cell_type": "code",
   "execution_count": 1,
   "id": "03129f44",
   "metadata": {},
   "outputs": [],
   "source": [
    "coverage = {\"AHN\": r\"../tests/data/dtm\"}\n",
    "directory = r\"../tests/data/tasks/test_wrij\""
   ]
  },
  {
   "cell_type": "markdown",
   "id": "28575c0c",
   "metadata": {},
   "source": [
    "We importeren de validator en maken een HyDAMO validator aan die geopackages, csvs en geojsons weg schrijft. We kennen ook de coverage toe."
   ]
  },
  {
   "cell_type": "code",
   "execution_count": 2,
   "id": "662c2721",
   "metadata": {},
   "outputs": [
    {
     "ename": "ModuleNotFoundError",
     "evalue": "No module named 'hydamo_validation'",
     "output_type": "error",
     "traceback": [
      "\u001b[1;31m---------------------------------------------------------------------------\u001b[0m",
      "\u001b[1;31mModuleNotFoundError\u001b[0m                       Traceback (most recent call last)",
      "Input \u001b[1;32mIn [2]\u001b[0m, in \u001b[0;36m<module>\u001b[1;34m\u001b[0m\n\u001b[1;32m----> 1\u001b[0m \u001b[38;5;28;01mfrom\u001b[39;00m \u001b[38;5;21;01mhydamo_validation\u001b[39;00m \u001b[38;5;28;01mimport\u001b[39;00m validator\n\u001b[0;32m      2\u001b[0m hydamo_validator \u001b[38;5;241m=\u001b[39m validator(output_types\u001b[38;5;241m=\u001b[39m[\u001b[38;5;124m\"\u001b[39m\u001b[38;5;124mgeopackage\u001b[39m\u001b[38;5;124m\"\u001b[39m, \u001b[38;5;124m\"\u001b[39m\u001b[38;5;124mcsv\u001b[39m\u001b[38;5;124m\"\u001b[39m, \u001b[38;5;124m\"\u001b[39m\u001b[38;5;124mgeojson\u001b[39m\u001b[38;5;124m\"\u001b[39m],\n\u001b[0;32m      3\u001b[0m                              coverages\u001b[38;5;241m=\u001b[39mcoverage)\n",
      "\u001b[1;31mModuleNotFoundError\u001b[0m: No module named 'hydamo_validation'"
     ]
    }
   ],
   "source": [
    "from hydamo_validation import validator\n",
    "hydamo_validator = validator(output_types=[\"geopackage\", \"csv\", \"geojson\"],\n",
    "                             coverages=coverage)"
   ]
  },
  {
   "cell_type": "markdown",
   "id": "0c5e821d",
   "metadata": {},
   "source": [
    "Nu kunnen we onze `directory` gaan valideren. Dat duurt ongeveer 20-30 seconden"
   ]
  },
  {
   "cell_type": "code",
   "execution_count": null,
   "id": "5598b86f",
   "metadata": {},
   "outputs": [],
   "source": [
    "datamodel, layer_summary, result_summary = hydamo_validator(directory=directory,\n",
    "                                                            raise_error=True)"
   ]
  },
  {
   "cell_type": "markdown",
   "id": "8c4a2f97",
   "metadata": {},
   "source": [
    "We kijken naar de samenvatting van het resultaat"
   ]
  },
  {
   "cell_type": "code",
   "execution_count": null,
   "id": "84a05716",
   "metadata": {},
   "outputs": [],
   "source": [
    "result_summary.to_dict()"
   ]
  }
 ],
 "metadata": {
  "kernelspec": {
   "display_name": "Python 3 (ipykernel)",
   "language": "python",
   "name": "python3"
  },
  "language_info": {
   "codemirror_mode": {
    "name": "ipython",
    "version": 3
   },
   "file_extension": ".py",
   "mimetype": "text/x-python",
   "name": "python",
   "nbconvert_exporter": "python",
   "pygments_lexer": "ipython3",
   "version": "3.9.9"
  }
 },
 "nbformat": 4,
 "nbformat_minor": 5
}
