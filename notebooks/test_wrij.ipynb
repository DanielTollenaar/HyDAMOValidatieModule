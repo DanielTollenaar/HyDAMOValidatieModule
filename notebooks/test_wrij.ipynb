{
 "cells": [
  {
   "cell_type": "markdown",
   "id": "a02cc1fe",
   "metadata": {},
   "source": [
    "# Testen via de Python module\n",
    "\n",
    "We hebben hiervoor nodig `directory`; een map met data om te valideren, deze bestaat uit:\n",
    "* een map `datasets` met daarin 1 of meerdere GeoPackages met HyDAMO lagen\n",
    "* een bestand `validation_rules.json` met daarin de validatieregels\n",
    "\n",
    "Omdat we op de HyDAMO objecten de maaiveldhoogte willen bepalen definieren we een `coverage`. Dit is een python dictionary. Elke `key` geeft een identificatie voor de coverage die aangeroepen kan worden in de `validation_rules.json`. De `value` verwijst naar een map met daarin:\n",
    "* GeoTiffs\n",
    "* index.shp met een uitlijn van elke GeoTiff"
   ]
  },
  {
   "cell_type": "code",
   "execution_count": 1,
   "id": "03129f44",
   "metadata": {},
   "outputs": [],
   "source": [
    "coverage = {\"AHN\": r\"../tests/data/dtm\"}\n",
    "directory = r\"../tests/data/tasks/test_wrij\""
   ]
  },
  {
   "cell_type": "markdown",
   "id": "28575c0c",
   "metadata": {},
   "source": [
    "We importeren de validator en maken een HyDAMO validator aan die geopackages, csvs en geojsons weg schrijft. We kennen ook de coverage toe."
   ]
  },
  {
   "cell_type": "code",
   "execution_count": 2,
   "id": "662c2721",
   "metadata": {},
   "outputs": [],
   "source": [
    "from hydamo_validation import validator\n",
    "hydamo_validator = validator(output_types=[\"geopackage\", \"csv\", \"geojson\"],\n",
    "                             coverages=coverage)"
   ]
  },
  {
   "cell_type": "markdown",
   "id": "0c5e821d",
   "metadata": {},
   "source": [
    "Nu kunnen we onze `directory` gaan valideren. Dat duurt ongeveer 20-30 seconden"
   ]
  },
  {
   "cell_type": "code",
   "execution_count": 3,
   "id": "5598b86f",
   "metadata": {},
   "outputs": [
    {
     "name": "stderr",
     "output_type": "stream",
     "text": [
      "INFO:hydamo_validation.validator:finished in 12.67 seconds\n"
     ]
    }
   ],
   "source": [
    "datamodel, layer_summary, result_summary = hydamo_validator(directory=directory,\n",
    "                                                            raise_error=True)"
   ]
  },
  {
   "cell_type": "markdown",
   "id": "8c4a2f97",
   "metadata": {},
   "source": [
    "We kijken naar de samenvatting van het resultaat"
   ]
  },
  {
   "cell_type": "code",
   "execution_count": 4,
   "id": "84a05716",
   "metadata": {},
   "outputs": [
    {
     "data": {
      "text/plain": [
       "{'success': True,\n",
       " 'module_version': '0.9.2',\n",
       " 'date_check': '2022-01-18T16:54:01.465546',\n",
       " 'duration': 12.67148208618164,\n",
       " 'status': 'finished',\n",
       " 'dataset_layers': ['Afvoergebiedaanvoergebied',\n",
       "  'Duikersifonhevel',\n",
       "  'Hydroobject',\n",
       "  'Regelmiddel',\n",
       "  'Stuw',\n",
       "  'Brug',\n",
       "  'Bodemval',\n",
       "  'Gemaal',\n",
       "  'Kunstwerkopening',\n",
       "  'Pomp'],\n",
       " 'result_layers': ['afvoergebiedaanvoergebied',\n",
       "  'duikersifonhevel',\n",
       "  'hydroobject',\n",
       "  'regelmiddel',\n",
       "  'stuw',\n",
       "  'brug',\n",
       "  'bodemval',\n",
       "  'gemaal',\n",
       "  'kunstwerkopening',\n",
       "  'pomp'],\n",
       " 'missing_layers': ['admingrenswaterschap',\n",
       "  'afsluitmiddel',\n",
       "  'aquaduct',\n",
       "  'beheergrenswaterschap',\n",
       "  'bijzonderhydraulischobject',\n",
       "  'doorstroomopening',\n",
       "  'grondwaterinfolijn',\n",
       "  'grondwaterinfopunt',\n",
       "  'grondwaterkoppellijn',\n",
       "  'grondwaterkoppelpunt',\n",
       "  'hydrologischerandvoorwaarde',\n",
       "  'hydroobject_normgp',\n",
       "  'lateraleknoop',\n",
       "  'meetlocatie',\n",
       "  'meetwaardeactiewaarde',\n",
       "  'normgeparamprofiel',\n",
       "  'normgeparamprofielwaarde',\n",
       "  'peilafwijkinggebied',\n",
       "  'peilbesluitgebied',\n",
       "  'peilgebiedpraktijk',\n",
       "  'peilgebiedvigerend',\n",
       "  'profielgroep',\n",
       "  'profiellijn',\n",
       "  'profielpunt',\n",
       "  'reglementgrenswaterschap',\n",
       "  'streefpeil',\n",
       "  'sturing',\n",
       "  'vispassage',\n",
       "  'vispassagevlak',\n",
       "  'vuilvang',\n",
       "  'zandvang'],\n",
       " 'error_layers': [],\n",
       " 'syntax_result': ['afvoergebiedaanvoergebied',\n",
       "  'duikersifonhevel',\n",
       "  'hydroobject',\n",
       "  'regelmiddel',\n",
       "  'stuw',\n",
       "  'brug',\n",
       "  'bodemval',\n",
       "  'gemaal',\n",
       "  'kunstwerkopening',\n",
       "  'pomp'],\n",
       " 'validation_result': ['duikersifonhevel',\n",
       "  'regelmiddel',\n",
       "  'kunstwerkopening',\n",
       "  'stuw',\n",
       "  'brug',\n",
       "  'pomp',\n",
       "  'gemaal',\n",
       "  'hydroobject']}"
      ]
     },
     "execution_count": 4,
     "metadata": {},
     "output_type": "execute_result"
    }
   ],
   "source": [
    "result_summary.to_dict()"
   ]
  }
 ],
 "metadata": {
  "kernelspec": {
   "display_name": "Python 3 (ipykernel)",
   "language": "python",
   "name": "python3"
  },
  "language_info": {
   "codemirror_mode": {
    "name": "ipython",
    "version": 3
   },
   "file_extension": ".py",
   "mimetype": "text/x-python",
   "name": "python",
   "nbconvert_exporter": "python",
   "pygments_lexer": "ipython3",
   "version": "3.9.7"
  }
 },
 "nbformat": 4,
 "nbformat_minor": 5
}
